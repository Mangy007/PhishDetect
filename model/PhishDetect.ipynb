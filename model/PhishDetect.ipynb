{
 "cells": [
  {
   "cell_type": "code",
   "execution_count": 3,
   "metadata": {},
   "outputs": [],
   "source": [
    "import io\n",
    "\n",
    "from urllib.parse import urlparse\n",
    "import tldextract\n",
    "\n",
    "import numpy as np\n",
    "import pandas as pd\n",
    "from transformers import RobertaTokenizer, RobertaConfig, RobertaModel, RobertaForSequenceClassification\n",
    "import fasttext"
   ]
  },
  {
   "cell_type": "code",
   "execution_count": 4,
   "metadata": {},
   "outputs": [],
   "source": [
    "phish_df = pd.read_csv('../dataset/phishtank_data_corpus_complete_15-07-23.csv')\n",
    "nonphish_df = pd.read_csv('../dataset/original_website_dataset.csv')"
   ]
  },
  {
   "cell_type": "code",
   "execution_count": 5,
   "metadata": {},
   "outputs": [
    {
     "data": {
      "text/html": [
       "<div>\n",
       "<style scoped>\n",
       "    .dataframe tbody tr th:only-of-type {\n",
       "        vertical-align: middle;\n",
       "    }\n",
       "\n",
       "    .dataframe tbody tr th {\n",
       "        vertical-align: top;\n",
       "    }\n",
       "\n",
       "    .dataframe thead th {\n",
       "        text-align: right;\n",
       "    }\n",
       "</style>\n",
       "<table border=\"1\" class=\"dataframe\">\n",
       "  <thead>\n",
       "    <tr style=\"text-align: right;\">\n",
       "      <th></th>\n",
       "      <th>id</th>\n",
       "      <th>url</th>\n",
       "      <th>is_valid</th>\n",
       "      <th>phishing_url</th>\n",
       "      <th>submission_time</th>\n",
       "    </tr>\n",
       "  </thead>\n",
       "  <tbody>\n",
       "    <tr>\n",
       "      <th>0</th>\n",
       "      <td>8225238</td>\n",
       "      <td>https://phishtank.org/phish_detail.php?phish_i...</td>\n",
       "      <td>Unknown</td>\n",
       "      <td>https://pocztapolsk.buzz/pay</td>\n",
       "      <td>Jul 15th 2023 9:45 AM</td>\n",
       "    </tr>\n",
       "    <tr>\n",
       "      <th>1</th>\n",
       "      <td>8225237</td>\n",
       "      <td>https://phishtank.org/phish_detail.php?phish_i...</td>\n",
       "      <td>VALID PHISH</td>\n",
       "      <td>https://alertsuser.github.io/pantek/kimax/</td>\n",
       "      <td>Jul 15th 2023 9:38 AM</td>\n",
       "    </tr>\n",
       "    <tr>\n",
       "      <th>2</th>\n",
       "      <td>8225236</td>\n",
       "      <td>https://phishtank.org/phish_detail.php?phish_i...</td>\n",
       "      <td>Unknown</td>\n",
       "      <td>https://digicamforums.com</td>\n",
       "      <td>Jul 15th 2023 9:19 AM</td>\n",
       "    </tr>\n",
       "    <tr>\n",
       "      <th>3</th>\n",
       "      <td>8225235</td>\n",
       "      <td>https://phishtank.org/phish_detail.php?phish_i...</td>\n",
       "      <td>Unknown</td>\n",
       "      <td>SPAMs://wirelessworldshop.com/</td>\n",
       "      <td>Jul 15th 2023 9:19 AM</td>\n",
       "    </tr>\n",
       "    <tr>\n",
       "      <th>4</th>\n",
       "      <td>8225234</td>\n",
       "      <td>https://phishtank.org/phish_detail.php?phish_i...</td>\n",
       "      <td>Unknown</td>\n",
       "      <td>SPAMs://www.wirelessworldshop.com</td>\n",
       "      <td>Jul 15th 2023 9:19 AM</td>\n",
       "    </tr>\n",
       "  </tbody>\n",
       "</table>\n",
       "</div>"
      ],
      "text/plain": [
       "        id                                                url     is_valid  \\\n",
       "0  8225238  https://phishtank.org/phish_detail.php?phish_i...      Unknown   \n",
       "1  8225237  https://phishtank.org/phish_detail.php?phish_i...  VALID PHISH   \n",
       "2  8225236  https://phishtank.org/phish_detail.php?phish_i...      Unknown   \n",
       "3  8225235  https://phishtank.org/phish_detail.php?phish_i...      Unknown   \n",
       "4  8225234  https://phishtank.org/phish_detail.php?phish_i...      Unknown   \n",
       "\n",
       "                                 phishing_url        submission_time  \n",
       "0                https://pocztapolsk.buzz/pay  Jul 15th 2023 9:45 AM  \n",
       "1  https://alertsuser.github.io/pantek/kimax/  Jul 15th 2023 9:38 AM  \n",
       "2                   https://digicamforums.com  Jul 15th 2023 9:19 AM  \n",
       "3              SPAMs://wirelessworldshop.com/  Jul 15th 2023 9:19 AM  \n",
       "4           SPAMs://www.wirelessworldshop.com  Jul 15th 2023 9:19 AM  "
      ]
     },
     "execution_count": 5,
     "metadata": {},
     "output_type": "execute_result"
    }
   ],
   "source": [
    "phish_df.head()"
   ]
  },
  {
   "cell_type": "code",
   "execution_count": 6,
   "metadata": {},
   "outputs": [
    {
     "data": {
      "text/html": [
       "<div>\n",
       "<style scoped>\n",
       "    .dataframe tbody tr th:only-of-type {\n",
       "        vertical-align: middle;\n",
       "    }\n",
       "\n",
       "    .dataframe tbody tr th {\n",
       "        vertical-align: top;\n",
       "    }\n",
       "\n",
       "    .dataframe thead th {\n",
       "        text-align: right;\n",
       "    }\n",
       "</style>\n",
       "<table border=\"1\" class=\"dataframe\">\n",
       "  <thead>\n",
       "    <tr style=\"text-align: right;\">\n",
       "      <th></th>\n",
       "      <th>url</th>\n",
       "      <th>Speical_Char</th>\n",
       "      <th>Have_IP</th>\n",
       "      <th>Have_At</th>\n",
       "      <th>URL_length</th>\n",
       "      <th>URL_Depth</th>\n",
       "      <th>redirection</th>\n",
       "      <th>time_get_redirect</th>\n",
       "      <th>port_in_url</th>\n",
       "      <th>use_http</th>\n",
       "      <th>...</th>\n",
       "      <th>unescape</th>\n",
       "      <th>escape</th>\n",
       "      <th>ActiveXObject</th>\n",
       "      <th>fromCharCode</th>\n",
       "      <th>atob</th>\n",
       "      <th>Punny_Code</th>\n",
       "      <th>TLDs</th>\n",
       "      <th>Title</th>\n",
       "      <th>country_name</th>\n",
       "      <th>label</th>\n",
       "    </tr>\n",
       "  </thead>\n",
       "  <tbody>\n",
       "    <tr>\n",
       "      <th>0</th>\n",
       "      <td>https://sites.google.com/site/policyclaming76745/</td>\n",
       "      <td>3</td>\n",
       "      <td>0</td>\n",
       "      <td>0</td>\n",
       "      <td>0</td>\n",
       "      <td>2</td>\n",
       "      <td>6</td>\n",
       "      <td>0</td>\n",
       "      <td>0</td>\n",
       "      <td>0</td>\n",
       "      <td>...</td>\n",
       "      <td>0</td>\n",
       "      <td>0</td>\n",
       "      <td>0</td>\n",
       "      <td>0</td>\n",
       "      <td>0</td>\n",
       "      <td>0</td>\n",
       "      <td>com</td>\n",
       "      <td>Google Sites</td>\n",
       "      <td>US</td>\n",
       "      <td>1</td>\n",
       "    </tr>\n",
       "    <tr>\n",
       "      <th>1</th>\n",
       "      <td>https://www.pinterest.com/abbiestever/?redirec...</td>\n",
       "      <td>5</td>\n",
       "      <td>0</td>\n",
       "      <td>0</td>\n",
       "      <td>0</td>\n",
       "      <td>1</td>\n",
       "      <td>6</td>\n",
       "      <td>0</td>\n",
       "      <td>0</td>\n",
       "      <td>0</td>\n",
       "      <td>...</td>\n",
       "      <td>0</td>\n",
       "      <td>0</td>\n",
       "      <td>0</td>\n",
       "      <td>0</td>\n",
       "      <td>0</td>\n",
       "      <td>0</td>\n",
       "      <td>com</td>\n",
       "      <td>Abbie Roose Stever (abbiestever) - Profile | P...</td>\n",
       "      <td>NaN</td>\n",
       "      <td>0</td>\n",
       "    </tr>\n",
       "    <tr>\n",
       "      <th>2</th>\n",
       "      <td>https://www.pinterest.com/abiolatv/bombshell-g...</td>\n",
       "      <td>3</td>\n",
       "      <td>0</td>\n",
       "      <td>0</td>\n",
       "      <td>1</td>\n",
       "      <td>2</td>\n",
       "      <td>6</td>\n",
       "      <td>0</td>\n",
       "      <td>0</td>\n",
       "      <td>0</td>\n",
       "      <td>...</td>\n",
       "      <td>0</td>\n",
       "      <td>0</td>\n",
       "      <td>0</td>\n",
       "      <td>0</td>\n",
       "      <td>0</td>\n",
       "      <td>0</td>\n",
       "      <td>com</td>\n",
       "      <td>No Title</td>\n",
       "      <td>NaN</td>\n",
       "      <td>0</td>\n",
       "    </tr>\n",
       "    <tr>\n",
       "      <th>3</th>\n",
       "      <td>https://balajipackersguntur.com/images/</td>\n",
       "      <td>2</td>\n",
       "      <td>0</td>\n",
       "      <td>0</td>\n",
       "      <td>0</td>\n",
       "      <td>1</td>\n",
       "      <td>6</td>\n",
       "      <td>0</td>\n",
       "      <td>0</td>\n",
       "      <td>0</td>\n",
       "      <td>...</td>\n",
       "      <td>0</td>\n",
       "      <td>0</td>\n",
       "      <td>0</td>\n",
       "      <td>0</td>\n",
       "      <td>0</td>\n",
       "      <td>0</td>\n",
       "      <td>com</td>\n",
       "      <td>Index of /images</td>\n",
       "      <td>IN</td>\n",
       "      <td>1</td>\n",
       "    </tr>\n",
       "    <tr>\n",
       "      <th>4</th>\n",
       "      <td>https://sites.google.com/site/claming564336670...</td>\n",
       "      <td>3</td>\n",
       "      <td>0</td>\n",
       "      <td>0</td>\n",
       "      <td>0</td>\n",
       "      <td>2</td>\n",
       "      <td>6</td>\n",
       "      <td>0</td>\n",
       "      <td>0</td>\n",
       "      <td>0</td>\n",
       "      <td>...</td>\n",
       "      <td>0</td>\n",
       "      <td>0</td>\n",
       "      <td>0</td>\n",
       "      <td>0</td>\n",
       "      <td>0</td>\n",
       "      <td>0</td>\n",
       "      <td>com</td>\n",
       "      <td>SECURITY</td>\n",
       "      <td>NaN</td>\n",
       "      <td>1</td>\n",
       "    </tr>\n",
       "  </tbody>\n",
       "</table>\n",
       "<p>5 rows × 32 columns</p>\n",
       "</div>"
      ],
      "text/plain": [
       "                                                 url  Speical_Char  Have_IP  \\\n",
       "0  https://sites.google.com/site/policyclaming76745/             3        0   \n",
       "1  https://www.pinterest.com/abbiestever/?redirec...             5        0   \n",
       "2  https://www.pinterest.com/abiolatv/bombshell-g...             3        0   \n",
       "3            https://balajipackersguntur.com/images/             2        0   \n",
       "4  https://sites.google.com/site/claming564336670...             3        0   \n",
       "\n",
       "   Have_At  URL_length  URL_Depth  redirection  time_get_redirect  \\\n",
       "0        0           0          2            6                  0   \n",
       "1        0           0          1            6                  0   \n",
       "2        0           1          2            6                  0   \n",
       "3        0           0          1            6                  0   \n",
       "4        0           0          2            6                  0   \n",
       "\n",
       "   port_in_url  use_http  ...  unescape  escape  ActiveXObject  fromCharCode  \\\n",
       "0            0         0  ...         0       0              0             0   \n",
       "1            0         0  ...         0       0              0             0   \n",
       "2            0         0  ...         0       0              0             0   \n",
       "3            0         0  ...         0       0              0             0   \n",
       "4            0         0  ...         0       0              0             0   \n",
       "\n",
       "   atob  Punny_Code  TLDs                                              Title  \\\n",
       "0     0           0   com                                       Google Sites   \n",
       "1     0           0   com  Abbie Roose Stever (abbiestever) - Profile | P...   \n",
       "2     0           0   com                                           No Title   \n",
       "3     0           0   com                                   Index of /images   \n",
       "4     0           0   com                                           SECURITY   \n",
       "\n",
       "   country_name  label  \n",
       "0            US      1  \n",
       "1           NaN      0  \n",
       "2           NaN      0  \n",
       "3            IN      1  \n",
       "4           NaN      1  \n",
       "\n",
       "[5 rows x 32 columns]"
      ]
     },
     "execution_count": 6,
     "metadata": {},
     "output_type": "execute_result"
    }
   ],
   "source": [
    "nonphish_df.head()"
   ]
  },
  {
   "cell_type": "code",
   "execution_count": 7,
   "metadata": {},
   "outputs": [
    {
     "data": {
      "text/plain": [
       "((99923, 5), (167872, 32))"
      ]
     },
     "execution_count": 7,
     "metadata": {},
     "output_type": "execute_result"
    }
   ],
   "source": [
    "phish_df.shape, nonphish_df.shape"
   ]
  },
  {
   "cell_type": "markdown",
   "metadata": {},
   "source": [
    "### df merge\n",
    "\n",
    "#### Label\n",
    "\n",
    "phishing: -1\\\n",
    "genuine: 1"
   ]
  },
  {
   "cell_type": "code",
   "execution_count": 8,
   "metadata": {},
   "outputs": [
    {
     "data": {
      "text/plain": [
       "0        False\n",
       "1        False\n",
       "2        False\n",
       "3        False\n",
       "4        False\n",
       "         ...  \n",
       "99918    False\n",
       "99919    False\n",
       "99920    False\n",
       "99921    False\n",
       "99922    False\n",
       "Name: phishing_url, Length: 99923, dtype: bool"
      ]
     },
     "execution_count": 8,
     "metadata": {},
     "output_type": "execute_result"
    }
   ],
   "source": [
    "phish_df['phishing_url']==''"
   ]
  },
  {
   "cell_type": "code",
   "execution_count": 9,
   "metadata": {},
   "outputs": [],
   "source": [
    "df_1 = pd.DataFrame({'url': phish_df['phishing_url'], 'label': -1*np.ones(phish_df.shape[0])})\n",
    "df_2 = pd.DataFrame({'url': nonphish_df.sample(phish_df.shape[0])['url'], 'label': np.ones(phish_df.shape[0])})"
   ]
  },
  {
   "cell_type": "code",
   "execution_count": 10,
   "metadata": {},
   "outputs": [],
   "source": [
    "df = pd.concat([df_1, df_2]).sample(frac=1, ignore_index=True)"
   ]
  },
  {
   "cell_type": "code",
   "execution_count": 11,
   "metadata": {},
   "outputs": [
    {
     "data": {
      "text/html": [
       "<div>\n",
       "<style scoped>\n",
       "    .dataframe tbody tr th:only-of-type {\n",
       "        vertical-align: middle;\n",
       "    }\n",
       "\n",
       "    .dataframe tbody tr th {\n",
       "        vertical-align: top;\n",
       "    }\n",
       "\n",
       "    .dataframe thead th {\n",
       "        text-align: right;\n",
       "    }\n",
       "</style>\n",
       "<table border=\"1\" class=\"dataframe\">\n",
       "  <thead>\n",
       "    <tr style=\"text-align: right;\">\n",
       "      <th></th>\n",
       "      <th>url</th>\n",
       "      <th>label</th>\n",
       "    </tr>\n",
       "  </thead>\n",
       "  <tbody>\n",
       "    <tr>\n",
       "      <th>0</th>\n",
       "      <td>https://360zhileng.com</td>\n",
       "      <td>1.0</td>\n",
       "    </tr>\n",
       "    <tr>\n",
       "      <th>1</th>\n",
       "      <td>https://sites.google.com/site/verifycheckpoint...</td>\n",
       "      <td>1.0</td>\n",
       "    </tr>\n",
       "    <tr>\n",
       "      <th>2</th>\n",
       "      <td>https://hnvoaluong.faqserv.com/ap/signin?p=R%2...</td>\n",
       "      <td>-1.0</td>\n",
       "    </tr>\n",
       "    <tr>\n",
       "      <th>3</th>\n",
       "      <td>https://login-maile-924c.query9133.workers.dev/</td>\n",
       "      <td>-1.0</td>\n",
       "    </tr>\n",
       "    <tr>\n",
       "      <th>4</th>\n",
       "      <td>http://easywebbnpnortisbe.com/</td>\n",
       "      <td>1.0</td>\n",
       "    </tr>\n",
       "  </tbody>\n",
       "</table>\n",
       "</div>"
      ],
      "text/plain": [
       "                                                 url  label\n",
       "0                             https://360zhileng.com    1.0\n",
       "1  https://sites.google.com/site/verifycheckpoint...    1.0\n",
       "2  https://hnvoaluong.faqserv.com/ap/signin?p=R%2...   -1.0\n",
       "3    https://login-maile-924c.query9133.workers.dev/   -1.0\n",
       "4                     http://easywebbnpnortisbe.com/    1.0"
      ]
     },
     "execution_count": 11,
     "metadata": {},
     "output_type": "execute_result"
    }
   ],
   "source": [
    "df.head()"
   ]
  },
  {
   "cell_type": "markdown",
   "metadata": {},
   "source": [
    "### data cleaning"
   ]
  },
  {
   "cell_type": "code",
   "execution_count": 12,
   "metadata": {},
   "outputs": [],
   "source": [
    "def filter_df(x):\n",
    "    try:\n",
    "        scheme = urlparse(str(x))._asdict()['netloc']\n",
    "        if scheme=='':\n",
    "            return np.nan\n",
    "        return x\n",
    "    except:\n",
    "        scheme = urlparse(str(x)[:-1])._asdict()['netloc']\n",
    "        if scheme=='':\n",
    "            return np.nan\n",
    "        return x"
   ]
  },
  {
   "cell_type": "code",
   "execution_count": 13,
   "metadata": {},
   "outputs": [
    {
     "data": {
      "text/plain": [
       "(199846, 2)"
      ]
     },
     "execution_count": 13,
     "metadata": {},
     "output_type": "execute_result"
    }
   ],
   "source": [
    "df.shape"
   ]
  },
  {
   "cell_type": "code",
   "execution_count": 14,
   "metadata": {},
   "outputs": [],
   "source": [
    "df['url'] = df['url'].apply(lambda x: filter_df(x))\n",
    "df.dropna(inplace=True)"
   ]
  },
  {
   "cell_type": "code",
   "execution_count": 15,
   "metadata": {},
   "outputs": [
    {
     "data": {
      "text/plain": [
       "(199690, 2)"
      ]
     },
     "execution_count": 15,
     "metadata": {},
     "output_type": "execute_result"
    }
   ],
   "source": [
    "df.shape"
   ]
  },
  {
   "cell_type": "code",
   "execution_count": 16,
   "metadata": {},
   "outputs": [
    {
     "data": {
      "text/plain": [
       "({'scheme': 'https',\n",
       "  'netloc': 'sites.google.com',\n",
       "  'path': '/site/verifycheckpointpaqes/',\n",
       "  'params': '',\n",
       "  'query': '',\n",
       "  'fragment': ''},\n",
       " {'scheme': 'http',\n",
       "  'netloc': '198.50.135.149:80',\n",
       "  'path': '/redirecionamento/tv55lgm.php',\n",
       "  'params': '',\n",
       "  'query': '',\n",
       "  'fragment': ''})"
      ]
     },
     "execution_count": 16,
     "metadata": {},
     "output_type": "execute_result"
    }
   ],
   "source": [
    "urlparse(df['url'][1])._asdict(), urlparse('http://198.50.135.149:80/redirecionamento/tv55lgm.php')._asdict()"
   ]
  },
  {
   "cell_type": "code",
   "execution_count": 17,
   "metadata": {},
   "outputs": [],
   "source": [
    "def parser(x, key, type):\n",
    "    try:\n",
    "        scheme = urlparse(str(x))._asdict()[key]\n",
    "    except:\n",
    "        scheme = urlparse(str(x)[:-1])._asdict()[key]\n",
    "    \n",
    "    return pd.Series([scheme], index=[type])\n",
    "\n",
    "\n",
    "def parse_domain(x):\n",
    "    subdomain = None\n",
    "    domain = None\n",
    "    tld = None\n",
    "    try:\n",
    "        scheme = urlparse(str(x))._asdict()['netloc']\n",
    "        url = tldextract.extract(scheme)\n",
    "        subdomain, domain, tld = url.subdomain, url.domain, url.suffix\n",
    "    except:\n",
    "        scheme = urlparse(str(x)[:-1])._asdict()['netloc']\n",
    "        url = tldextract.extract(scheme)\n",
    "        subdomain, domain, tld = url.subdomain, url.domain, url.suffix\n",
    "        \n",
    "    return pd.Series([subdomain, domain, tld], index=['subdomain', 'domain', 'tld'])"
   ]
  },
  {
   "cell_type": "code",
   "execution_count": 18,
   "metadata": {},
   "outputs": [],
   "source": [
    "df_protocol = df['url'].apply(lambda x: parser(x, 'scheme', 'protocol'))\n",
    "df_domain = df['url'].apply(lambda x: parse_domain(x))\n",
    "df_path = df['url'].apply(lambda x: parser(x, 'path', 'path'))\n",
    "df_url_length = df['url'].apply(lambda x: len(x)).rename('url_length')"
   ]
  },
  {
   "cell_type": "code",
   "execution_count": 19,
   "metadata": {},
   "outputs": [
    {
     "data": {
      "text/html": [
       "<div>\n",
       "<style scoped>\n",
       "    .dataframe tbody tr th:only-of-type {\n",
       "        vertical-align: middle;\n",
       "    }\n",
       "\n",
       "    .dataframe tbody tr th {\n",
       "        vertical-align: top;\n",
       "    }\n",
       "\n",
       "    .dataframe thead th {\n",
       "        text-align: right;\n",
       "    }\n",
       "</style>\n",
       "<table border=\"1\" class=\"dataframe\">\n",
       "  <thead>\n",
       "    <tr style=\"text-align: right;\">\n",
       "      <th></th>\n",
       "      <th>subdomain</th>\n",
       "      <th>domain</th>\n",
       "      <th>tld</th>\n",
       "    </tr>\n",
       "  </thead>\n",
       "  <tbody>\n",
       "    <tr>\n",
       "      <th>0</th>\n",
       "      <td></td>\n",
       "      <td>360zhileng</td>\n",
       "      <td>com</td>\n",
       "    </tr>\n",
       "    <tr>\n",
       "      <th>1</th>\n",
       "      <td>sites</td>\n",
       "      <td>google</td>\n",
       "      <td>com</td>\n",
       "    </tr>\n",
       "    <tr>\n",
       "      <th>2</th>\n",
       "      <td>hnvoaluong</td>\n",
       "      <td>faqserv</td>\n",
       "      <td>com</td>\n",
       "    </tr>\n",
       "    <tr>\n",
       "      <th>3</th>\n",
       "      <td>login-maile-924c.query9133</td>\n",
       "      <td>workers</td>\n",
       "      <td>dev</td>\n",
       "    </tr>\n",
       "    <tr>\n",
       "      <th>4</th>\n",
       "      <td></td>\n",
       "      <td>easywebbnpnortisbe</td>\n",
       "      <td>com</td>\n",
       "    </tr>\n",
       "  </tbody>\n",
       "</table>\n",
       "</div>"
      ],
      "text/plain": [
       "                    subdomain              domain  tld\n",
       "0                                      360zhileng  com\n",
       "1                       sites              google  com\n",
       "2                  hnvoaluong             faqserv  com\n",
       "3  login-maile-924c.query9133             workers  dev\n",
       "4                              easywebbnpnortisbe  com"
      ]
     },
     "execution_count": 19,
     "metadata": {},
     "output_type": "execute_result"
    }
   ],
   "source": [
    "df_domain.head()"
   ]
  },
  {
   "cell_type": "code",
   "execution_count": 20,
   "metadata": {},
   "outputs": [
    {
     "data": {
      "text/html": [
       "<div>\n",
       "<style scoped>\n",
       "    .dataframe tbody tr th:only-of-type {\n",
       "        vertical-align: middle;\n",
       "    }\n",
       "\n",
       "    .dataframe tbody tr th {\n",
       "        vertical-align: top;\n",
       "    }\n",
       "\n",
       "    .dataframe thead th {\n",
       "        text-align: right;\n",
       "    }\n",
       "</style>\n",
       "<table border=\"1\" class=\"dataframe\">\n",
       "  <thead>\n",
       "    <tr style=\"text-align: right;\">\n",
       "      <th></th>\n",
       "      <th>protocol</th>\n",
       "    </tr>\n",
       "  </thead>\n",
       "  <tbody>\n",
       "    <tr>\n",
       "      <th>0</th>\n",
       "      <td>https</td>\n",
       "    </tr>\n",
       "    <tr>\n",
       "      <th>1</th>\n",
       "      <td>https</td>\n",
       "    </tr>\n",
       "    <tr>\n",
       "      <th>2</th>\n",
       "      <td>https</td>\n",
       "    </tr>\n",
       "    <tr>\n",
       "      <th>3</th>\n",
       "      <td>https</td>\n",
       "    </tr>\n",
       "    <tr>\n",
       "      <th>4</th>\n",
       "      <td>http</td>\n",
       "    </tr>\n",
       "  </tbody>\n",
       "</table>\n",
       "</div>"
      ],
      "text/plain": [
       "  protocol\n",
       "0    https\n",
       "1    https\n",
       "2    https\n",
       "3    https\n",
       "4     http"
      ]
     },
     "execution_count": 20,
     "metadata": {},
     "output_type": "execute_result"
    }
   ],
   "source": [
    "df_protocol.head()"
   ]
  },
  {
   "cell_type": "code",
   "execution_count": 21,
   "metadata": {},
   "outputs": [
    {
     "data": {
      "text/html": [
       "<div>\n",
       "<style scoped>\n",
       "    .dataframe tbody tr th:only-of-type {\n",
       "        vertical-align: middle;\n",
       "    }\n",
       "\n",
       "    .dataframe tbody tr th {\n",
       "        vertical-align: top;\n",
       "    }\n",
       "\n",
       "    .dataframe thead th {\n",
       "        text-align: right;\n",
       "    }\n",
       "</style>\n",
       "<table border=\"1\" class=\"dataframe\">\n",
       "  <thead>\n",
       "    <tr style=\"text-align: right;\">\n",
       "      <th></th>\n",
       "      <th>path</th>\n",
       "    </tr>\n",
       "  </thead>\n",
       "  <tbody>\n",
       "    <tr>\n",
       "      <th>0</th>\n",
       "      <td></td>\n",
       "    </tr>\n",
       "    <tr>\n",
       "      <th>1</th>\n",
       "      <td>/site/verifycheckpointpaqes/</td>\n",
       "    </tr>\n",
       "    <tr>\n",
       "      <th>2</th>\n",
       "      <td>/ap/signin</td>\n",
       "    </tr>\n",
       "    <tr>\n",
       "      <th>3</th>\n",
       "      <td>/</td>\n",
       "    </tr>\n",
       "    <tr>\n",
       "      <th>4</th>\n",
       "      <td>/</td>\n",
       "    </tr>\n",
       "  </tbody>\n",
       "</table>\n",
       "</div>"
      ],
      "text/plain": [
       "                           path\n",
       "0                              \n",
       "1  /site/verifycheckpointpaqes/\n",
       "2                    /ap/signin\n",
       "3                             /\n",
       "4                             /"
      ]
     },
     "execution_count": 21,
     "metadata": {},
     "output_type": "execute_result"
    }
   ],
   "source": [
    "df_path.head()"
   ]
  },
  {
   "cell_type": "code",
   "execution_count": 22,
   "metadata": {},
   "outputs": [
    {
     "data": {
      "text/plain": [
       "((199690, 2), (199690, 1), (199690, 3), (199690, 1), (199690,))"
      ]
     },
     "execution_count": 22,
     "metadata": {},
     "output_type": "execute_result"
    }
   ],
   "source": [
    "df.shape, df_protocol.shape, df_domain.shape, df_path.shape, df_url_length.shape"
   ]
  },
  {
   "cell_type": "code",
   "execution_count": 23,
   "metadata": {},
   "outputs": [
    {
     "data": {
      "text/html": [
       "<div>\n",
       "<style scoped>\n",
       "    .dataframe tbody tr th:only-of-type {\n",
       "        vertical-align: middle;\n",
       "    }\n",
       "\n",
       "    .dataframe tbody tr th {\n",
       "        vertical-align: top;\n",
       "    }\n",
       "\n",
       "    .dataframe thead th {\n",
       "        text-align: right;\n",
       "    }\n",
       "</style>\n",
       "<table border=\"1\" class=\"dataframe\">\n",
       "  <thead>\n",
       "    <tr style=\"text-align: right;\">\n",
       "      <th></th>\n",
       "      <th>url</th>\n",
       "      <th>label</th>\n",
       "    </tr>\n",
       "  </thead>\n",
       "  <tbody>\n",
       "    <tr>\n",
       "      <th>0</th>\n",
       "      <td>https://360zhileng.com</td>\n",
       "      <td>1.0</td>\n",
       "    </tr>\n",
       "    <tr>\n",
       "      <th>1</th>\n",
       "      <td>https://sites.google.com/site/verifycheckpoint...</td>\n",
       "      <td>1.0</td>\n",
       "    </tr>\n",
       "    <tr>\n",
       "      <th>2</th>\n",
       "      <td>https://hnvoaluong.faqserv.com/ap/signin?p=R%2...</td>\n",
       "      <td>-1.0</td>\n",
       "    </tr>\n",
       "    <tr>\n",
       "      <th>3</th>\n",
       "      <td>https://login-maile-924c.query9133.workers.dev/</td>\n",
       "      <td>-1.0</td>\n",
       "    </tr>\n",
       "    <tr>\n",
       "      <th>4</th>\n",
       "      <td>http://easywebbnpnortisbe.com/</td>\n",
       "      <td>1.0</td>\n",
       "    </tr>\n",
       "  </tbody>\n",
       "</table>\n",
       "</div>"
      ],
      "text/plain": [
       "                                                 url  label\n",
       "0                             https://360zhileng.com    1.0\n",
       "1  https://sites.google.com/site/verifycheckpoint...    1.0\n",
       "2  https://hnvoaluong.faqserv.com/ap/signin?p=R%2...   -1.0\n",
       "3    https://login-maile-924c.query9133.workers.dev/   -1.0\n",
       "4                     http://easywebbnpnortisbe.com/    1.0"
      ]
     },
     "execution_count": 23,
     "metadata": {},
     "output_type": "execute_result"
    }
   ],
   "source": [
    "df.head()"
   ]
  },
  {
   "cell_type": "code",
   "execution_count": 24,
   "metadata": {},
   "outputs": [],
   "source": [
    "filtered_df = pd.concat([df_protocol, df_domain, df_path, df_url_length, df], axis=1)"
   ]
  },
  {
   "cell_type": "code",
   "execution_count": 25,
   "metadata": {},
   "outputs": [
    {
     "data": {
      "text/html": [
       "<div>\n",
       "<style scoped>\n",
       "    .dataframe tbody tr th:only-of-type {\n",
       "        vertical-align: middle;\n",
       "    }\n",
       "\n",
       "    .dataframe tbody tr th {\n",
       "        vertical-align: top;\n",
       "    }\n",
       "\n",
       "    .dataframe thead th {\n",
       "        text-align: right;\n",
       "    }\n",
       "</style>\n",
       "<table border=\"1\" class=\"dataframe\">\n",
       "  <thead>\n",
       "    <tr style=\"text-align: right;\">\n",
       "      <th></th>\n",
       "      <th>protocol</th>\n",
       "      <th>subdomain</th>\n",
       "      <th>domain</th>\n",
       "      <th>tld</th>\n",
       "      <th>path</th>\n",
       "      <th>url_length</th>\n",
       "      <th>url</th>\n",
       "      <th>label</th>\n",
       "    </tr>\n",
       "  </thead>\n",
       "  <tbody>\n",
       "    <tr>\n",
       "      <th>0</th>\n",
       "      <td>https</td>\n",
       "      <td></td>\n",
       "      <td>360zhileng</td>\n",
       "      <td>com</td>\n",
       "      <td></td>\n",
       "      <td>22</td>\n",
       "      <td>https://360zhileng.com</td>\n",
       "      <td>1.0</td>\n",
       "    </tr>\n",
       "    <tr>\n",
       "      <th>1</th>\n",
       "      <td>https</td>\n",
       "      <td>sites</td>\n",
       "      <td>google</td>\n",
       "      <td>com</td>\n",
       "      <td>/site/verifycheckpointpaqes/</td>\n",
       "      <td>52</td>\n",
       "      <td>https://sites.google.com/site/verifycheckpoint...</td>\n",
       "      <td>1.0</td>\n",
       "    </tr>\n",
       "    <tr>\n",
       "      <th>2</th>\n",
       "      <td>https</td>\n",
       "      <td>hnvoaluong</td>\n",
       "      <td>faqserv</td>\n",
       "      <td>com</td>\n",
       "      <td>/ap/signin</td>\n",
       "      <td>217</td>\n",
       "      <td>https://hnvoaluong.faqserv.com/ap/signin?p=R%2...</td>\n",
       "      <td>-1.0</td>\n",
       "    </tr>\n",
       "    <tr>\n",
       "      <th>3</th>\n",
       "      <td>https</td>\n",
       "      <td>login-maile-924c.query9133</td>\n",
       "      <td>workers</td>\n",
       "      <td>dev</td>\n",
       "      <td>/</td>\n",
       "      <td>47</td>\n",
       "      <td>https://login-maile-924c.query9133.workers.dev/</td>\n",
       "      <td>-1.0</td>\n",
       "    </tr>\n",
       "    <tr>\n",
       "      <th>4</th>\n",
       "      <td>http</td>\n",
       "      <td></td>\n",
       "      <td>easywebbnpnortisbe</td>\n",
       "      <td>com</td>\n",
       "      <td>/</td>\n",
       "      <td>30</td>\n",
       "      <td>http://easywebbnpnortisbe.com/</td>\n",
       "      <td>1.0</td>\n",
       "    </tr>\n",
       "  </tbody>\n",
       "</table>\n",
       "</div>"
      ],
      "text/plain": [
       "  protocol                   subdomain              domain  tld  \\\n",
       "0    https                                      360zhileng  com   \n",
       "1    https                       sites              google  com   \n",
       "2    https                  hnvoaluong             faqserv  com   \n",
       "3    https  login-maile-924c.query9133             workers  dev   \n",
       "4     http                              easywebbnpnortisbe  com   \n",
       "\n",
       "                           path  url_length  \\\n",
       "0                                        22   \n",
       "1  /site/verifycheckpointpaqes/          52   \n",
       "2                    /ap/signin         217   \n",
       "3                             /          47   \n",
       "4                             /          30   \n",
       "\n",
       "                                                 url  label  \n",
       "0                             https://360zhileng.com    1.0  \n",
       "1  https://sites.google.com/site/verifycheckpoint...    1.0  \n",
       "2  https://hnvoaluong.faqserv.com/ap/signin?p=R%2...   -1.0  \n",
       "3    https://login-maile-924c.query9133.workers.dev/   -1.0  \n",
       "4                     http://easywebbnpnortisbe.com/    1.0  "
      ]
     },
     "execution_count": 25,
     "metadata": {},
     "output_type": "execute_result"
    }
   ],
   "source": [
    "filtered_df.head()"
   ]
  },
  {
   "cell_type": "code",
   "execution_count": 26,
   "metadata": {},
   "outputs": [],
   "source": [
    "def load_vectors(fname):\n",
    "    fin = io.open(fname, 'r', encoding='utf-8', newline='\\n', errors='ignore')\n",
    "    n, d = map(int, fin.readline().split())\n",
    "    data = {}\n",
    "    for line in fin:\n",
    "        tokens = line.rstrip().split(' ')\n",
    "        data[tokens[0]] = map(float, tokens[1:])\n",
    "    return data"
   ]
  },
  {
   "cell_type": "code",
   "execution_count": 27,
   "metadata": {},
   "outputs": [],
   "source": [
    "vectors = load_vectors('./fasttext_model/crawl-300d-2M.vec')"
   ]
  },
  {
   "cell_type": "code",
   "execution_count": null,
   "metadata": {},
   "outputs": [],
   "source": []
  },
  {
   "cell_type": "code",
   "execution_count": null,
   "metadata": {},
   "outputs": [],
   "source": []
  }
 ],
 "metadata": {
  "kernelspec": {
   "display_name": "mtp",
   "language": "python",
   "name": "python3"
  },
  "language_info": {
   "codemirror_mode": {
    "name": "ipython",
    "version": 3
   },
   "file_extension": ".py",
   "mimetype": "text/x-python",
   "name": "python",
   "nbconvert_exporter": "python",
   "pygments_lexer": "ipython3",
   "version": "3.10.3"
  },
  "orig_nbformat": 4
 },
 "nbformat": 4,
 "nbformat_minor": 2
}
